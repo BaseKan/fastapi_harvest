{
 "cells": [
  {
   "cell_type": "code",
   "execution_count": 15,
   "id": "90c31758-95f2-4316-8951-6f78ba64aa40",
   "metadata": {},
   "outputs": [],
   "source": [
    "import os\n",
    "\n",
    "import mlflow.keras\n",
    "\n",
    "MODEL_DIR = './model_tf/'\n",
    "\n",
    "# TODO: MUST BE DYNAMIC\n",
    "MODEL_VERSION = 0"
   ]
  },
  {
   "cell_type": "code",
   "execution_count": 16,
   "id": "837f2b12-2f8e-4643-8dee-831808c2b109",
   "metadata": {},
   "outputs": [
    {
     "data": {
      "text/plain": [
       "'./model_tf/0/index'"
      ]
     },
     "execution_count": 16,
     "metadata": {},
     "output_type": "execute_result"
    }
   ],
   "source": [
    "os.path.join(MODEL_DIR, str(MODEL_VERSION), 'index')"
   ]
  },
  {
   "cell_type": "markdown",
   "id": "14d4ae61-cd90-4ba1-9a93-d0773feb3cfc",
   "metadata": {},
   "source": [
    "--------"
   ]
  },
  {
   "cell_type": "code",
   "execution_count": 17,
   "id": "f2c8417b-65b8-4e12-8c94-eac4ab3225cc",
   "metadata": {},
   "outputs": [],
   "source": [
    "import tensorflow as tf"
   ]
  },
  {
   "cell_type": "code",
   "execution_count": 18,
   "id": "ace36f49-eb8a-4fd1-bdf4-e89fecc4e284",
   "metadata": {},
   "outputs": [
    {
     "name": "stdout",
     "output_type": "stream",
     "text": [
      "WARNING:tensorflow:No training configuration found in save file, so the model was *not* compiled. Compile it manually.\n"
     ]
    }
   ],
   "source": [
    "import mlflow\n",
    "logged_model = 'runs:/c0c5688d1f4b441daba88de3a8deb31c/model'\n",
    "\n",
    "# Load model as a PyFuncModel.\n",
    "# loaded_model = mlflow.pyfunc.load_model(logged_model)\n",
    "loaded_model = mlflow.keras.load_model(logged_model)\n",
    "loaded_model.compile(optimizer=tf.keras.optimizers.Adagrad(learning_rate=0.1))"
   ]
  },
  {
   "cell_type": "code",
   "execution_count": 21,
   "id": "a5d672b9-abbe-4e3f-bc1c-2f0efef75e77",
   "metadata": {},
   "outputs": [
    {
     "data": {
      "text/plain": [
       "<keras.src.saving.legacy.saved_model.load.BruteForce at 0x7f393c23b890>"
      ]
     },
     "execution_count": 21,
     "metadata": {},
     "output_type": "execute_result"
    }
   ],
   "source": [
    "loaded_model"
   ]
  },
  {
   "cell_type": "code",
   "execution_count": 20,
   "id": "9a2a4437-7e0e-447d-a9d9-7d29947fcea1",
   "metadata": {},
   "outputs": [
    {
     "data": {
      "text/plain": [
       "keras.src.saving.legacy.saved_model.load.BruteForce"
      ]
     },
     "execution_count": 20,
     "metadata": {},
     "output_type": "execute_result"
    }
   ],
   "source": [
    "type(loaded_model)"
   ]
  },
  {
   "cell_type": "code",
   "execution_count": null,
   "id": "498e6ca7-e52d-4a62-8c48-5184f3c63d20",
   "metadata": {},
   "outputs": [],
   "source": []
  }
 ],
 "metadata": {
  "kernelspec": {
   "display_name": "Python 3 (ipykernel)",
   "language": "python",
   "name": "python3"
  },
  "language_info": {
   "codemirror_mode": {
    "name": "ipython",
    "version": 3
   },
   "file_extension": ".py",
   "mimetype": "text/x-python",
   "name": "python",
   "nbconvert_exporter": "python",
   "pygments_lexer": "ipython3",
   "version": "3.11.3"
  }
 },
 "nbformat": 4,
 "nbformat_minor": 5
}
